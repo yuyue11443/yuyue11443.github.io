{
 "cells": [
  {
   "cell_type": "markdown",
   "id": "255b5338e103b99a",
   "metadata": {
    "collapsed": false
   },
   "source": [
    "# EE 572 HW1"
   ]
  },
  {
   "cell_type": "markdown",
   "id": "3d2ea18247e081a8",
   "metadata": {
    "collapsed": false
   },
   "source": [
    "## Pozar Problem 1.2"
   ]
  },
  {
   "cell_type": "markdown",
   "id": "1115e4d2",
   "metadata": {},
   "source": [
    "(a) From Maxwell's equations, we have\n",
    "\n",
    "$$\\nabla\\times\\boldsymbol{E} = -\\frac{\\partial \\boldsymbol{B}}{\\partial t}$$\n",
    "\n",
    "Therefore for plane wave at angular frequency $\\omega$, we have\n",
    "\n",
    "$$\\boldsymbol{B} = \\frac{E_0k}{\\omega}\\cos(\\omega t-kx)\\boldsymbol{e}_z$$"
   ]
  },
  {
   "cell_type": "markdown",
   "id": "54097474",
   "metadata": {},
   "source": [
    "(b) Phase velocity of plane wave in a dieletric medium with $\\varepsilon_r = 2.54$ is\n",
    "\n",
    "$$v_p = \\frac{c}{\\sqrt{\\varepsilon_r}} = 1.88\\times 10^8\\ \\rm{m/s}$$"
   ]
  },
  {
   "cell_type": "markdown",
   "id": "0ea84445",
   "metadata": {},
   "source": [
    "(c) The wavelength of plane wave can be obtained from phase velocity and frequency:\n",
    "\n",
    "$$\\lambda = v_p/f = 7.84\\times 10^{-2}\\ \\rm{m}$$"
   ]
  },
  {
   "cell_type": "markdown",
   "id": "bf53b4d0",
   "metadata": {},
   "source": [
    "(d) Phase shift between $x_2$ and $x_1$ is\n",
    "\n",
    "$$\\Delta\\phi = \\phi_2 - \\phi_1 = -k(x_2 - x_1) = 2\\pi\\cdot(x_2-x_1)/\\lambda = 4.01$$"
   ]
  },
  {
   "cell_type": "markdown",
   "id": "f98fcd47",
   "metadata": {},
   "source": [
    "## Pozar Problem 2.4"
   ]
  },
  {
   "cell_type": "markdown",
   "id": "911d516e",
   "metadata": {},
   "source": [
    "(a) The expressions for RLGC parameters of a coaxial cable are\n",
    "\n",
    "\\begin{gather}\n",
    "    R = \\frac{1}{2}\\sqrt{\\frac{f\\mu_c}{\\pi\\sigma_c}}(\\frac{1}{a}+\\frac{1}{b})\\\\\n",
    "    L = \\frac{\\mu}{2\\pi}\\log(b/a)\\\\\n",
    "    G = \\frac{2\\pi\\sigma}{\\log(b/a)}\\\\\n",
    "    C = \\frac{2\\pi\\varepsilon}{\\log(b/a)}\n",
    "\\end{gather}\n",
    "\n",
    "where $\\sigma_c$, $\\mu_c$ pertain to the metal and $\\sigma$, $\\mu$, $\\varepsilon$ pertain to the dieletric medium. For non-magnetic material, we can assume $\\mu_c=\\mu=\\mu_0$, and other parameters can be found in Pozar's Appendix H&G:\n",
    "\\begin{align}\n",
    "    \\sigma_c&= 5.81 \\times 10^{7} \\ \\rm S/m\\\\\n",
    "    \\varepsilon/\\varepsilon_0 &= 2.08\n",
    "    \\sigma &= \\varepsilon\\omega\\tan\\delta = 7.37 \\times 10^{-5} \\ \\rm S/m\n",
    "\\end{align}"
   ]
  },
  {
   "cell_type": "code",
   "execution_count": null,
   "id": "6ba6366acf65984",
   "metadata": {
    "collapsed": false
   },
   "outputs": [],
   "source": []
  },
  {
   "cell_type": "markdown",
   "id": "585439cd",
   "metadata": {},
   "source": []
  }
 ],
 "metadata": {
  "kernelspec": {
   "display_name": "Python 3",
   "language": "python",
   "name": "python3"
  },
  "language_info": {
   "codemirror_mode": {
    "name": "ipython",
    "version": 2
   },
   "file_extension": ".py",
   "mimetype": "text/x-python",
   "name": "python",
   "nbconvert_exporter": "python",
   "pygments_lexer": "ipython2",
   "version": "2.7.6"
  }
 },
 "nbformat": 4,
 "nbformat_minor": 5
}
